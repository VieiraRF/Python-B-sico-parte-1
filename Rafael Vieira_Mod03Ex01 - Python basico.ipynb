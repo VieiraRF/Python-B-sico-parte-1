{
 "cells": [
  {
   "cell_type": "markdown",
   "metadata": {
    "id": "SEE0vQsW83yB"
   },
   "source": [
    "### 01 - Teste de gravidez\n",
    "Escreva uma célula com controle de fluxos que tem como premissa a existência das seguintes variáveis:\n",
    "\n",
    "- ```sexo``` como ```str``` indicando os valores '**M**' para masculino e '**F**' para feminino  \n",
    "- ```beta_hcg``` que indica a quantidade do beta-HCG no sangue em mUI/mL.\n",
    "\n",
    "A sua tarefa é escrever um código que imprima como resultado \"indivíduo do sexo masculino\" quando sexo = 'M', caso sexo = 'F', se o valor de beta-HCG for maior que 5, retorne \"Positivo\" indicando que a paciente está grávida, e retorne \"Negativo\" caso contrário.\n",
    "\n",
    "Não mexa nos valores da variável ```sexo``` nem em ```beta_hcg```, e escreva um código que funcione para quaisquer valores possíveis de ambos: ```sexo``` = '**M**' ou '**F**' e ```beta_hcg``` assumindo valores inteiros positivos."
   ]
  },
  {
   "cell_type": "code",
   "execution_count": 4,
   "metadata": {
    "id": "cTOc4LG683yE"
   },
   "outputs": [
    {
     "name": "stdin",
     "output_type": "stream",
     "text": [
      "\n",
      "Qual o Sexo do indivíduo? (M/F):  f\n",
      "Digite o Valor do beta hcg:  6\n"
     ]
    },
    {
     "name": "stdout",
     "output_type": "stream",
     "text": [
      "\n",
      "Teste de Gravidez: \n",
      "Sexo: F\n",
      "Nível de Beta HCG: 6\n",
      "Resultado: Positivo\n",
      "\n"
     ]
    }
   ],
   "source": [
    "sexo = 'M'\n",
    "beta_hcg = 0\n",
    "\n",
    "# seu código vem abaixo desta linha\n",
    "while True:\n",
    "\n",
    "    cond = ' '\n",
    "    sexo = input('\\nQual o Sexo do indivíduo? (M/F): ').strip().upper()\n",
    "    while sexo not in ['M', 'F']:\n",
    "        sexo = input('\\n\\nResposta inválida, insira \"M\" ou \"F\": \\n\\n').strip().upper()[0]\n",
    "    break\n",
    "    \n",
    "while True:\n",
    "    beta_hcg = input('Digite o Valor do beta hcg: ').strip()\n",
    "\n",
    "    if beta_hcg.isdigit(): \n",
    "        beta_hcg = int(beta_hcg)\n",
    "        break\n",
    "    else:\n",
    "        print('\\n\\nERRO, Digite um número inteiro.\\n\\n')\n",
    "\n",
    "resultado = ' '\n",
    "if sexo == 'M':\n",
    "    print('\\nO indivíduo é do sexo Masculino\\n')\n",
    "elif beta_hcg < 6:\n",
    "    resultado = 'Negativo'\n",
    "    print(f'\\nTeste de Gravidez: \\nSexo: {sexo}\\nNível de Beta HCG: {beta_hcg}\\nResultado: {resultado}\\n')\n",
    "else:\n",
    "    resultado = 'Positivo'\n",
    "    print(f'\\nTeste de Gravidez: \\nSexo: {sexo}\\nNível de Beta HCG: {beta_hcg}\\nResultado: {resultado}\\n')"
   ]
  },
  {
   "cell_type": "markdown",
   "metadata": {
    "id": "uCoIZDE383yF"
   },
   "source": [
    "### 02 - Renomeando variáveis\n",
    "\n",
    "Vamos ver adiante que uma forma de renomear variáveis de um conjunto de dados é através de dicionários - o dicionário deve conter como chave o nome original, associando a cada chave um único valor (tipo *str*) que contenha o nome novo.\n",
    "\n",
    "A sua tarefa é escrever um dicionário que possa ser utilizado para traduzir as variáveis ```name``` (nome), ```age``` (idade) e ```income``` (renda). Ou seja, esse dicionário deve relacionar as chaves *name, age* e *income* às suas respectivas traduções."
   ]
  },
  {
   "cell_type": "code",
   "execution_count": 2,
   "metadata": {
    "id": "Bh6ijpbu83yG",
    "outputId": "58fbd8da-ed1d-4e05-df85-041c821948f2"
   },
   "outputs": [
    {
     "name": "stdout",
     "output_type": "stream",
     "text": [
      "\n",
      "Tradução das variaveis: \n",
      "\n",
      "name: nome\n",
      "age: idade\n",
      "income: renda\n"
     ]
    },
    {
     "data": {
      "text/plain": [
       "{'name': 'nome', 'age': 'idade', 'income': 'renda'}"
      ]
     },
     "execution_count": 2,
     "metadata": {},
     "output_type": "execute_result"
    }
   ],
   "source": [
    "dic_renomeacao = {'name': 'nome', 'age': 'idade', 'income': 'renda'}\n",
    "\n",
    "print('\\nTradução das variaveis: \\n')\n",
    "for chave in dic_renomeacao:\n",
    "    print(f'{chave}: {dic_renomeacao[chave]}')\n",
    "\n",
    "dic_renomeacao"
   ]
  },
  {
   "cell_type": "markdown",
   "metadata": {
    "id": "95zumO5g83yH"
   },
   "source": [
    "### 03 - É divisível?\n",
    "A sua tarefa é escrever um código que indique se um número ```N``` é divisível por um número ```M```. Escreva um programa que faça essa verificação para quaisquer combinações de ```N``` e ```M``` e devolva uma mensagem indicativa no output."
   ]
  },
  {
   "cell_type": "code",
   "execution_count": 31,
   "metadata": {
    "id": "BR2zOhmN83yI"
   },
   "outputs": [
    {
     "name": "stdin",
     "output_type": "stream",
     "text": [
      "\n",
      "Digite o valor de N:  8\n",
      "\n",
      "Digite o valor de M:  2\n"
     ]
    },
    {
     "name": "stdout",
     "output_type": "stream",
     "text": [
      "\n",
      "O número 8 é divisível por 2\n",
      "O Resultade: 4\n",
      "\n"
     ]
    }
   ],
   "source": [
    "N = 42\n",
    "M = 7\n",
    "\n",
    "#Seu código\n",
    "def n_inteiro(nome_var):\n",
    "    while True:\n",
    "        valor = input(f'\\nDigite o valor de {nome_var}: ').strip()\n",
    "        if valor.isdigit():\n",
    "            return int(valor)\n",
    "        else:\n",
    "            print('\\n\\nDigite um número inteiro.\\n\\n')\n",
    "\n",
    "N = n_inteiro('N')\n",
    "M = n_inteiro('M')\n",
    "\n",
    "if N % M == 0:\n",
    "    print(f'\\nO número {N} é divisível por {M}\\nO Resultade: {int(N/M)}\\n')\n",
    "else:\n",
    "    print(f'\\nO número {N} não é divisível por {M}\\nO Resultade é um número inteiro: {int(N/M)}\\n')"
   ]
  },
  {
   "cell_type": "markdown",
   "metadata": {
    "id": "0d5Kdrz283yJ"
   },
   "source": [
    "### 04 - Números primos\n",
    "> Um número **N** é primo se e somente se é divisível por 1, -1, por **N** e por -**N**.  \n",
    "\n",
    "Escreva um script que verifica se ```N``` é um número primo, verificando se ```N``` é divisível por todos os números de ```1``` a ```N-1```. Você vai precisar usar alguma ferramenta de *loop* que você aprendeu para isto. No final, devolva uma mensagem no output indicando se o número é primo ou não."
   ]
  },
  {
   "cell_type": "code",
   "execution_count": 6,
   "metadata": {
    "id": "h_lFO-EO83yJ"
   },
   "outputs": [
    {
     "name": "stdin",
     "output_type": "stream",
     "text": [
      "\n",
      "Digite o valor de N:  9\n"
     ]
    },
    {
     "name": "stdout",
     "output_type": "stream",
     "text": [
      "\n",
      "\n",
      "9 Não é primo, é divisível por 3.\n",
      "\n",
      "\n"
     ]
    }
   ],
   "source": [
    "N = 47\n",
    "\n",
    "# seu código abaixo\n",
    "while True:\n",
    "    N = input('\\nDigite o valor de N: ').strip()\n",
    "\n",
    "    if N.isdigit():  \n",
    "        N = int(N)  \n",
    "        break  \n",
    "    else:\n",
    "        print('\\nERRO, digite um número.')\n",
    "\n",
    "def verificar_primo(N):\n",
    "    if N <= 1:\n",
    "        return f'\\n{N} Não é primo, os números são menores ou iguais a 1 não.\\n'\n",
    "    \n",
    "    for i in range(2, N):  \n",
    "        if N % i == 0:  \n",
    "            return f'\\n{N} Não é primo, é divisível por {i}.\\n'\n",
    "    \n",
    "    return f'\\n{N} É um número primo.\\n'\n",
    "\n",
    "resultado = verificar_primo(N)\n",
    "print(f'\\n{resultado}\\n')"
   ]
  },
  {
   "cell_type": "markdown",
   "metadata": {
    "id": "zHwDnURO83yK"
   },
   "source": [
    "### 05 - Desafio\n",
    "O algorítmo do exercício anterior não é o mais eficiente. O que você pode fazer para deixá-lo mais eficiente? Ou seja, executar menos comparações, portanto consumir menos tempo.\n",
    "1. Será que precisamos correr o loop até o final sempre?\n",
    "2. Será que precisamos mesmo verificar **todos** os números?\n",
    "3. Será que precisamos ir até N-1?\n",
    "\n",
    "Essas perguntas levam ao tipo de pensamento voltado a deixar um algoritmo mais eficiente. Veja se você consegue melhorar o seu."
   ]
  },
  {
   "cell_type": "code",
   "execution_count": 2,
   "metadata": {
    "id": "DDdwfZOL83yM"
   },
   "outputs": [
    {
     "name": "stdin",
     "output_type": "stream",
     "text": [
      "\n",
      "Digite um número:  9\n"
     ]
    },
    {
     "name": "stdout",
     "output_type": "stream",
     "text": [
      "\n",
      "O número 9 NÃO É PRIMO!\n",
      "\n"
     ]
    }
   ],
   "source": [
    "N = 98\n",
    "\n",
    "# seu código aqui\n",
    "\n",
    "N = int(input('\\nDigite um número: '))\n",
    "\n",
    "\n",
    "if N <= 1:\n",
    "    print(f'O número {N} NÃO é primo!')\n",
    "else:\n",
    "    tot = 0\n",
    "    \n",
    "    for c in range(1, int(N ** 0.5) + 1):\n",
    "        if N % c == 0:\n",
    "            tot += 1\n",
    "            if c != N // c: \n",
    "                tot += 1\n",
    "        if tot > 2:  \n",
    "            break\n",
    "\n",
    "    if tot == 2:\n",
    "        print(f'\\nO número {N} É PRIMO!\\n')\n",
    "    else:\n",
    "        print(f'\\nO número {N} NÃO É PRIMO!\\n')\n"
   ]
  },
  {
   "cell_type": "markdown",
   "metadata": {
    "id": "4zhVSQan83yN"
   },
   "source": [
    "### 06 - Peso ideal 1\n",
    "O IMC (índice de massa corpórea) é um indicador de saúde mais bem aceito que o peso. Ele é calculado como:\n",
    "\n",
    "$$ IMC = \\dfrac{peso}{altura^2}$$\n",
    "\n",
    "Segundo a OMS, valores *normais* são entre 18.5 e 24.9.\n",
    "\n",
    "Sua tarefa é encontrar o ponto médio dessa faixa."
   ]
  },
  {
   "cell_type": "code",
   "execution_count": 12,
   "metadata": {
    "id": "3DzxicN983yO",
    "outputId": "6a947e58-88b2-4764-a9ca-717b971adb3d"
   },
   "outputs": [
    {
     "name": "stdout",
     "output_type": "stream",
     "text": [
      "\n",
      "O ponto médio da faixa de IMC normal: 21.70\n",
      "\n"
     ]
    }
   ],
   "source": [
    "limite_inferior = 18.5\n",
    "limite_superior = 24.9\n",
    "\n",
    "ponto_medio = (limite_inferior + limite_superior) / 2\n",
    "\n",
    "print(f'\\nO ponto médio da faixa de IMC normal: {ponto_medio:.2f}\\n')\n",
    "\n",
    "imc_ideal = ponto_medio"
   ]
  },
  {
   "cell_type": "markdown",
   "metadata": {
    "id": "Z8uBOym483yP"
   },
   "source": [
    "### 07 - Peso ideal 2\n",
    "Recebendo um valor de altura, encontre o peso '*ideal*' dessa pessoa, que fornece o IMC encontrado acima"
   ]
  },
  {
   "cell_type": "code",
   "execution_count": 35,
   "metadata": {
    "id": "rrNwycte83yP",
    "outputId": "0e63b2ff-3743-48c7-a472-b48a450a0867"
   },
   "outputs": [
    {
     "name": "stdout",
     "output_type": "stream",
     "text": [
      "\n",
      "O seu peso ideal é: 62.7 kg\n",
      "\n"
     ]
    }
   ],
   "source": [
    "altura = 1.70\n",
    "\n",
    "# Seu código\n",
    "peso_ideal = imc_ideal * (altura**2)\n",
    "print(f'\\nO seu peso ideal é: {peso_ideal:.1f} kg\\n')"
   ]
  },
  {
   "cell_type": "markdown",
   "metadata": {
    "id": "zEdM6J_i83yP"
   },
   "source": [
    "### 08 - Peso ideal 3\n",
    "Dada uma lista contendo as alturas de pacientes, crie uma nova lista que contenha o peso '*ideal*' (que fornece o IMC calculado em **Peso ideal 1**) desses pacientes."
   ]
  },
  {
   "cell_type": "code",
   "execution_count": 33,
   "metadata": {
    "id": "KN1mB_My83yQ",
    "outputId": "f070d54d-c156-4546-e3c7-b5bc500059d9"
   },
   "outputs": [
    {
     "name": "stdout",
     "output_type": "stream",
     "text": [
      "\n",
      "Lista de peso ideal 1: [82.51, 91.19, 62.71, 59.08]\n",
      "\n"
     ]
    }
   ],
   "source": [
    "lista_alturas = [1.95, 2.05, 1.70, 1.65]\n",
    "\n",
    "lista_peso_ideal = []\n",
    "\n",
    "# seu código\n",
    "for cont in range(len(lista_alturas)):\n",
    "    altura = lista_alturas[cont]\n",
    "    lista_peso_ideal.append(round(imc_ideal * (altura ** 2), 2))\n",
    "\n",
    "\n",
    "print(f'\\nLista de peso ideal 1: {lista_peso_ideal}\\n')"
   ]
  },
  {
   "cell_type": "markdown",
   "metadata": {
    "id": "8OKAtYQM83yQ"
   },
   "source": [
    "### 09 - Peso ideal 4\n",
    "Dada uma lista de tuplas - cada elemento da lista é uma tupla contendo altura e peso de um paciente - crie uma nova lista com o IMC desses pacientes."
   ]
  },
  {
   "cell_type": "code",
   "execution_count": 39,
   "metadata": {
    "id": "FaXgkjzI83yQ",
    "outputId": "8adc5e59-8a72-42db-db6b-6895587e875e"
   },
   "outputs": [
    {
     "name": "stdout",
     "output_type": "stream",
     "text": [
      "\n",
      "Lista de imc de 3 pacientes: [27.78, 27.55, 19.19]\n",
      "\n"
     ]
    }
   ],
   "source": [
    "altura_peso = [(1.80, 90), (1.65, 75), (1.91, 70)]\n",
    "\n",
    "imc = []\n",
    "\n",
    "# seu código\n",
    "\n",
    "for cond in range(len(altura_peso)):\n",
    "    imc_calc = (altura_peso[cond][1])/((altura_peso[cond][0])**2)\n",
    "    imc.append(round(imc_calc, 2))\n",
    "\n",
    "print(f'\\nLista de imc de 3 pacientes: {imc}\\n')"
   ]
  },
  {
   "cell_type": "markdown",
   "metadata": {
    "id": "kZdSJqJq83yR"
   },
   "source": [
    "### 10 - Peso ideal 5\n",
    "Dada uma lista de **listas** - cada elemento da lista é uma **lista** contendo altura e peso de um paciente, adicione mais um elemento à lista de cada paciente contendo o IMC do paciente. Verifique também se é 'baixo', 'normal' ou 'alto' segundo os padrões da OMS em que normal é entre 18.5 e 24.9.\n",
    "\n",
    "Reflexão: por que no problema anterior temos que criar uma nova lista, e não podemos adicionar os dados de cada indivíduo à tupla?"
   ]
  },
  {
   "cell_type": "code",
   "execution_count": 41,
   "metadata": {
    "id": "EwszojP283yR"
   },
   "outputs": [
    {
     "data": {
      "text/plain": [
       "[[1.8, 90, 27.78, 'alto'],\n",
       " [1.65, 75, 27.55, 'alto'],\n",
       " [1.91, 70, 19.19, 'normal']]"
      ]
     },
     "execution_count": 41,
     "metadata": {},
     "output_type": "execute_result"
    }
   ],
   "source": [
    "altura_peso = [[1.80, 90], [1.65, 75], [1.91, 70]]\n",
    "\n",
    "# seu código\n",
    "\n",
    "for cond in range(len(altura_peso)):\n",
    "    imc_calc = (altura_peso[cond][1])/((altura_peso[cond][0])**2)\n",
    "    imc.append(round(imc_calc, 2))\n",
    "    altura_peso[cond].append(imc[cond])\n",
    "    if imc[cond] < 18.5:\n",
    "        stats = ('baixo')\n",
    "    elif imc[cond] > 24.9:\n",
    "        stats = ('alto')\n",
    "    else:\n",
    "        stats = ('normal')\n",
    "    altura_peso[cond].append(stats)\n",
    "\n",
    "altura_peso"
   ]
  },
  {
   "cell_type": "code",
   "execution_count": null,
   "metadata": {},
   "outputs": [],
   "source": []
  }
 ],
 "metadata": {
  "colab": {
   "collapsed_sections": [],
   "provenance": []
  },
  "kernelspec": {
   "display_name": "Python 3 (ipykernel)",
   "language": "python",
   "name": "python3"
  },
  "language_info": {
   "codemirror_mode": {
    "name": "ipython",
    "version": 3
   },
   "file_extension": ".py",
   "mimetype": "text/x-python",
   "name": "python",
   "nbconvert_exporter": "python",
   "pygments_lexer": "ipython3",
   "version": "3.12.7"
  }
 },
 "nbformat": 4,
 "nbformat_minor": 4
}
